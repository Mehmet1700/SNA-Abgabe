{
 "cells": [
  {
   "cell_type": "markdown",
   "source": [
    "Dieses Jupyter Notebook wurde zum Zweck des Debuggins erstellt. Es enthält alle Schritte, welche für die Bereinigung der Daten notwendig sind, allerdings sind diese ungeordnet. Außerdem sind hier Test Szenarien enthalten, welche nicht für die Bereinigung der Daten notwendig sind. Die finale Version des Skriptes ist als main.py im Ordner zu finden."
   ],
   "metadata": {
    "collapsed": false
   },
   "id": "611fca0ca6f84cdd"
  },
  {
   "cell_type": "code",
   "execution_count": 5,
   "id": "initial_id",
   "metadata": {
    "collapsed": true,
    "ExecuteTime": {
     "end_time": "2023-11-06T13:52:42.705879Z",
     "start_time": "2023-11-06T13:52:41.844892Z"
    }
   },
   "outputs": [],
   "source": [
    "import pandas as pd\n",
    "import os\n",
    "from matplotlib import colors\n",
    "from datetime import datetime"
   ]
  },
  {
   "cell_type": "code",
   "execution_count": 4,
   "outputs": [],
   "source": [
    "csv1 = pd.read_csv(\"2023_place_canvas_history-000000000000.csv\", delimiter=\",\")"
   ],
   "metadata": {
    "collapsed": false,
    "ExecuteTime": {
     "end_time": "2023-11-02T12:24:24.871Z",
     "start_time": "2023-11-02T12:24:21.064911Z"
    }
   },
   "id": "d03534a4253ee904"
  },
  {
   "cell_type": "code",
   "execution_count": 5,
   "outputs": [
    {
     "name": "stdout",
     "output_type": "stream",
     "text": [
      "2023-07-20 15:56:56.162 UTC\n",
      "2023-07-20 13:00:26.088 UTC\n"
     ]
    }
   ],
   "source": [
    "print (csv1['timestamp'].max())\n",
    "print (csv1['timestamp'].min())"
   ],
   "metadata": {
    "collapsed": false,
    "ExecuteTime": {
     "end_time": "2023-11-02T12:24:25.846776Z",
     "start_time": "2023-11-02T12:24:25.776842Z"
    }
   },
   "id": "cd470bc2734e96a9"
  },
  {
   "cell_type": "code",
   "execution_count": 6,
   "outputs": [
    {
     "name": "stdout",
     "output_type": "stream",
     "text": [
      "timestamp      object\n",
      "user           object\n",
      "coordinate     object\n",
      "pixel_color    object\n",
      "dtype: object\n"
     ]
    }
   ],
   "source": [
    "#Datentypen der Spalten werden angezeigt\n",
    "print(csv1.dtypes)"
   ],
   "metadata": {
    "collapsed": false,
    "ExecuteTime": {
     "end_time": "2023-11-02T12:24:32.094009Z",
     "start_time": "2023-11-02T12:24:32.072984Z"
    }
   },
   "id": "5b835d0ed3c8a121"
  },
  {
   "cell_type": "code",
   "execution_count": 7,
   "outputs": [
    {
     "name": "stdout",
     "output_type": "stream",
     "text": [
      "0    #FFFFFF\n",
      "1    #FF4500\n",
      "2    #FFFFFF\n",
      "3    #B44AC0\n",
      "4    #FF4500\n",
      "Name: pixel_color, dtype: object\n"
     ]
    }
   ],
   "source": [
    "#print head of pixel_color\n",
    "print(csv1['pixel_color'].head())"
   ],
   "metadata": {
    "collapsed": false,
    "ExecuteTime": {
     "end_time": "2023-11-02T12:37:42.046472Z",
     "start_time": "2023-11-02T12:37:42.035688Z"
    }
   },
   "id": "f5e39d3621f46265"
  },
  {
   "cell_type": "code",
   "execution_count": 8,
   "outputs": [],
   "source": [
    "#load first 200 rows of csv2 \n",
    "csv2 = pd.read_csv(\"2023_place_canvas_20072023.csv\", delimiter=\",\", nrows=200)"
   ],
   "metadata": {
    "collapsed": false,
    "ExecuteTime": {
     "end_time": "2023-11-02T12:37:47.837735Z",
     "start_time": "2023-11-02T12:37:47.832032Z"
    }
   },
   "id": "2053ade21fefee46"
  },
  {
   "cell_type": "code",
   "execution_count": 9,
   "outputs": [
    {
     "name": "stdout",
     "output_type": "stream",
     "text": [
      "timestamp      int64\n",
      "user           int64\n",
      "pixel_color    int64\n",
      "x              int64\n",
      "y              int64\n",
      "dtype: object\n",
      "130455\n",
      "130026\n"
     ]
    }
   ],
   "source": [
    "#Datentypen der Spalten werden angezeigt\n",
    "print(csv2.dtypes)\n",
    "#Min und Max der Spalte timestamp\n",
    "print(csv2['timestamp'].max())\n",
    "print(csv2['timestamp'].min())\n"
   ],
   "metadata": {
    "collapsed": false,
    "ExecuteTime": {
     "end_time": "2023-11-02T12:37:52.931617Z",
     "start_time": "2023-11-02T12:37:52.927477Z"
    }
   },
   "id": "449b8ab66dc41c98"
  },
  {
   "cell_type": "code",
   "execution_count": 16,
   "outputs": [],
   "source": [
    "csv3 = pd.read_csv(\"2023_place_canvas_history-000000000002.csv\", delimiter=\",\")"
   ],
   "metadata": {
    "collapsed": false,
    "ExecuteTime": {
     "end_time": "2023-11-02T12:38:37.223854Z",
     "start_time": "2023-11-02T12:38:33.751042Z"
    }
   },
   "id": "967b7d996c6c15ff"
  },
  {
   "cell_type": "code",
   "execution_count": 11,
   "outputs": [
    {
     "name": "stdout",
     "output_type": "stream",
     "text": [
      "(2278788, 4)\n"
     ]
    }
   ],
   "source": [
    "#Informationen über die Anzahl der Zeilen und Spalten\n",
    "print(csv3.shape)"
   ],
   "metadata": {
    "collapsed": false,
    "ExecuteTime": {
     "end_time": "2023-11-02T12:38:06.113401Z",
     "start_time": "2023-11-02T12:38:06.109770Z"
    }
   },
   "id": "ddaac6a887c1b8d4"
  },
  {
   "cell_type": "code",
   "execution_count": 12,
   "outputs": [
    {
     "name": "stdout",
     "output_type": "stream",
     "text": [
      "                           timestamp  \\\n",
      "1240860  2023-07-20 19:03:35.702 UTC   \n",
      "2237254  2023-07-20 19:42:49.032 UTC   \n",
      "2010936  2023-07-20 19:34:09.047 UTC   \n",
      "1895019  2023-07-20 19:29:45.952 UTC   \n",
      "585382   2023-07-20 18:36:02.692 UTC   \n",
      "\n",
      "                                                      user coordinate  \\\n",
      "1240860  JlWmlnlP5cv/4rEmKiqzx65Fl2aM0Ao8HqGum9AwqfA99r...    53,-171   \n",
      "2237254  s7t2CYNOe40F/A4lKG8/wFD6F7AZ9bAaubVMVa3kbBpZqA...   -315,317   \n",
      "2010936  9KoaO7+CrwZ94+9qyo/YMzvnms0rGUi/5ySBBd9dvYY8TV...    -27,-58   \n",
      "1895019  DFZgxuGK+jpstO4jJs8flhFFPnO4GbAK6H5MaRRuZWCeNu...     51,304   \n",
      "585382   nWPMgxL+2dri6SwbtUgUticz1ojI6sjxEzi8Clle12Y8VS...     10,356   \n",
      "\n",
      "        pixel_color  \n",
      "1240860     #3690EA  \n",
      "2237254     #FF4500  \n",
      "2010936     #FFD635  \n",
      "1895019     #000000  \n",
      "585382      #000000  \n"
     ]
    }
   ],
   "source": [
    "csv3_sample = csv3.sample(100)\n",
    "#Ausgabe der ersten 5 Zeilen\n",
    "print(csv3_sample.head())"
   ],
   "metadata": {
    "collapsed": false,
    "ExecuteTime": {
     "end_time": "2023-11-02T12:38:09.978210Z",
     "start_time": "2023-11-02T12:38:09.925609Z"
    }
   },
   "id": "b648e237171d4916"
  },
  {
   "cell_type": "code",
   "execution_count": 17,
   "outputs": [
    {
     "name": "stdout",
     "output_type": "stream",
     "text": [
      "Timestamp wird gekürzt\n",
      "0    2023-07-20 18:09:49\n",
      "1    2023-07-20 18:09:49\n",
      "2    2023-07-20 18:09:49\n",
      "3    2023-07-20 18:09:49\n",
      "4    2023-07-20 18:09:49\n",
      "Name: timestamp, dtype: object\n"
     ]
    }
   ],
   "source": [
    "# #timestamp wird auf 19 Zeichen gekürzt\n",
    "print(\"Timestamp wird gekürzt\")\n",
    "csv3['timestamp'] = csv3['timestamp'].str[:19]\n",
    "\n",
    "#Ausgabe der ersten 5 Zeilen von timestamp\n",
    "print(csv3['timestamp'].head())"
   ],
   "metadata": {
    "collapsed": false,
    "ExecuteTime": {
     "end_time": "2023-11-02T12:38:40.937954Z",
     "start_time": "2023-11-02T12:38:40.674105Z"
    }
   },
   "id": "f3718f9c3db1f603"
  },
  {
   "cell_type": "code",
   "execution_count": 18,
   "outputs": [
    {
     "name": "stdout",
     "output_type": "stream",
     "text": [
      "Timestamp wird in datetime umgewandelt\n"
     ]
    }
   ],
   "source": [
    "#timestamp wird in datetime umgewandelt\n",
    "print(\"Timestamp wird in datetime umgewandelt\")\n",
    "csv3['timestamp'] = pd.to_datetime(csv3['timestamp'], format='%Y-%m-%d %H:%M:%S')"
   ],
   "metadata": {
    "collapsed": false,
    "ExecuteTime": {
     "end_time": "2023-11-02T12:39:27.259750Z",
     "start_time": "2023-11-02T12:39:23.242345Z"
    }
   },
   "id": "227564524a0e356d"
  },
  {
   "cell_type": "code",
   "execution_count": 19,
   "outputs": [
    {
     "name": "stdout",
     "output_type": "stream",
     "text": [
      "0    2023-07-20 18:09:49\n",
      "1    2023-07-20 18:09:49\n",
      "2    2023-07-20 18:09:49\n",
      "3    2023-07-20 18:09:49\n",
      "4    2023-07-20 18:09:49\n",
      "Name: timestamp, dtype: object\n"
     ]
    }
   ],
   "source": [
    "#Ausgabe der ersten 5 Zeilen von timestamp\n",
    "print(csv3['timestamp'].head())"
   ],
   "metadata": {
    "collapsed": false,
    "ExecuteTime": {
     "end_time": "2023-11-02T12:39:27.929754Z",
     "start_time": "2023-11-02T12:39:27.926159Z"
    }
   },
   "id": "c11344c142f9e96b"
  },
  {
   "cell_type": "code",
   "execution_count": 25,
   "outputs": [
    {
     "name": "stdout",
     "output_type": "stream",
     "text": [
      "Timestamp wird zu datetime64[s] umgewandelt\n",
      "0   2023-07-20 18:09:49\n",
      "1   2023-07-20 18:09:49\n",
      "2   2023-07-20 18:09:49\n",
      "3   2023-07-20 18:09:49\n",
      "4   2023-07-20 18:09:49\n",
      "Name: timestamp, dtype: datetime64[s]\n"
     ]
    }
   ],
   "source": [
    "#Timestamp wird zu datetime64[s] umgewandelt\n",
    "print(\"Timestamp wird zu datetime64[s] umgewandelt\")\n",
    "csv3['timestamp'] = csv3['timestamp'].astype('datetime64[s]')\n",
    "print(csv3['timestamp'].head())"
   ],
   "metadata": {
    "collapsed": false,
    "ExecuteTime": {
     "end_time": "2023-11-02T12:43:11.202661Z",
     "start_time": "2023-11-02T12:43:10.386355Z"
    }
   },
   "id": "8cb47b3eb0ca7313"
  },
  {
   "cell_type": "code",
   "execution_count": 23,
   "outputs": [
    {
     "name": "stdout",
     "output_type": "stream",
     "text": [
      "2023-07-20 19:44:22\n",
      "2023-07-20 18:09:49\n"
     ]
    }
   ],
   "source": [
    "#Ausgabe von min und max von timestamp\n",
    "print(csv3['timestamp'].max())\n",
    "print(csv3['timestamp'].min())\n"
   ],
   "metadata": {
    "collapsed": false,
    "ExecuteTime": {
     "end_time": "2023-11-02T12:42:52.035894Z",
     "start_time": "2023-11-02T12:42:51.704013Z"
    }
   },
   "id": "965ea66d7bc45559"
  },
  {
   "cell_type": "code",
   "execution_count": 26,
   "outputs": [
    {
     "name": "stdout",
     "output_type": "stream",
     "text": [
      "Filtern der Einträge sodass nur Einträge vom 2023-07-20 00:00:00 bis 2023-07-20 23:59:59 angezeigt werden\n"
     ]
    }
   ],
   "source": [
    "#Filtern der Einträge sodass nur Einträge vom 2023-07-20 00:00:00 bis 2023-07-20 23:59:59 angezeigt werden\n",
    "print(\"Filtern der Einträge sodass nur Einträge vom 2023-07-20 00:00:00 bis 2023-07-20 23:59:59 angezeigt werden\")\n",
    "csv3 = csv3[(csv3['timestamp'] >= '2023-07-20 00:00:00') & (csv3['timestamp'] <= '2023-07-20 23:59:59')]"
   ],
   "metadata": {
    "collapsed": false,
    "ExecuteTime": {
     "end_time": "2023-11-02T12:43:15.963476Z",
     "start_time": "2023-11-02T12:43:15.632734Z"
    }
   },
   "id": "30decc2fc480380d"
  },
  {
   "cell_type": "code",
   "execution_count": 27,
   "outputs": [
    {
     "name": "stdout",
     "output_type": "stream",
     "text": [
      "            timestamp                                               user  \\\n",
      "0 2023-07-20 18:09:49  1Gwttcp+9HC4YLaERXOAmAtfpBj/lD3Da9sLQSyonii/Ob...   \n",
      "1 2023-07-20 18:09:49  7EdXDJogOffhW8ex4mCsNQzhItraj3iMAs2JtoBcsjyvDI...   \n",
      "2 2023-07-20 18:09:49  VPPgAeEohrkZRa1tnQHNb5vIqeSJ1/8RB/OtuUrMzYBymm...   \n",
      "3 2023-07-20 18:09:49  xNnLfREhSW0fq/zXztaSA9cQ/o3wjcvmXE7KSdJIv0zcTh...   \n",
      "4 2023-07-20 18:09:49  Mj1px6m88UvEDGR/toqWBMZjtcJNzruZCJImTs1U+zGJ3Z...   \n",
      "\n",
      "  coordinate pixel_color  \n",
      "0    477,268     #3690EA  \n",
      "1   -395,-57     #FFD635  \n",
      "2     80,216     #B44AC0  \n",
      "3     230,16     #000000  \n",
      "4   315,-220     #FF4500  \n"
     ]
    }
   ],
   "source": [
    "print(csv3.head())"
   ],
   "metadata": {
    "collapsed": false,
    "ExecuteTime": {
     "end_time": "2023-11-02T12:43:19.304039Z",
     "start_time": "2023-11-02T12:43:19.301831Z"
    }
   },
   "id": "a5e9108f0ff390ac"
  },
  {
   "cell_type": "code",
   "execution_count": 57,
   "outputs": [
    {
     "name": "stdout",
     "output_type": "stream",
     "text": [
      "Pixel_color hexadezimal in Farbe umwandeln\n"
     ]
    }
   ],
   "source": [
    "#Pixel_color hexadezimal in Farbe umwandeln\n",
    "print(\"Pixel_color hexadezimal in Farbe umwandeln\")\n",
    "# Use .loc[] to set values in the original DataFrame as type int8\n",
    "csv3.loc[csv3['pixel_color'] == '#FF4500', 'pixel_color'] = 1\n",
    "csv3.loc[csv3['pixel_color'] == '#FFA800', 'pixel_color'] = 2\n",
    "csv3.loc[csv3['pixel_color'] == '#FFD635', 'pixel_color'] = 3\n",
    "csv3.loc[csv3['pixel_color'] == '#00A368', 'pixel_color'] = 4\n",
    "csv3.loc[csv3['pixel_color'] == '#3690EA', 'pixel_color'] = 5\n",
    "csv3.loc[csv3['pixel_color'] == '#B44AC0', 'pixel_color'] = 6\n",
    "csv3.loc[csv3['pixel_color'] == '#000000', 'pixel_color'] = 7\n",
    "csv3.loc[csv3['pixel_color'] == '#FFFFFF', 'pixel_color'] = 8"
   ],
   "metadata": {
    "collapsed": false,
    "ExecuteTime": {
     "end_time": "2023-10-29T13:08:06.547341Z",
     "start_time": "2023-10-29T13:08:05.488837Z"
    }
   },
   "id": "35933a662d72f003"
  },
  {
   "cell_type": "code",
   "execution_count": 58,
   "outputs": [
    {
     "name": "stdout",
     "output_type": "stream",
     "text": [
      "0    3\n",
      "1    2\n",
      "2    1\n",
      "3    3\n",
      "4    1\n",
      "Name: pixel_color, dtype: object\n"
     ]
    }
   ],
   "source": [
    "#Ausgabe der ersten 5 Zeilen von pixel_color\n",
    "print(csv3['pixel_color'].head())"
   ],
   "metadata": {
    "collapsed": false,
    "ExecuteTime": {
     "end_time": "2023-10-29T13:08:08.567787Z",
     "start_time": "2023-10-29T13:08:08.562825Z"
    }
   },
   "id": "1fa2c21bf177f02f"
  },
  {
   "cell_type": "code",
   "execution_count": 59,
   "outputs": [
    {
     "name": "stdout",
     "output_type": "stream",
     "text": [
      "Umwandeln der Spalte pixel_color in int8\n",
      "0    3\n",
      "1    2\n",
      "2    1\n",
      "3    3\n",
      "4    1\n",
      "Name: pixel_color, dtype: int8\n"
     ]
    }
   ],
   "source": [
    "#Umwandeln der Spalte pixel_color in int8\n",
    "print(\"Umwandeln der Spalte pixel_color in int8\")\n",
    "csv3['pixel_color'] = csv3['pixel_color'].astype('int8')\n",
    "print(csv3['pixel_color'].head())"
   ],
   "metadata": {
    "collapsed": false,
    "ExecuteTime": {
     "end_time": "2023-10-29T13:08:12.197008Z",
     "start_time": "2023-10-29T13:08:12.188930Z"
    }
   },
   "id": "c48b06c9ad284329"
  },
  {
   "cell_type": "code",
   "execution_count": 28,
   "outputs": [
    {
     "name": "stdout",
     "output_type": "stream",
     "text": [
      "0    18:09:49\n",
      "1    18:09:49\n",
      "2    18:09:49\n",
      "3    18:09:49\n",
      "4    18:09:49\n",
      "Name: timestamp, dtype: object\n"
     ]
    }
   ],
   "source": [
    "# Das Timestamp Format wird gekürzt, sodass nur noch die Stunden, Minuten und Sekunden angezeigt werden\n",
    "csv3['timestamp'] = csv3['timestamp'].dt.strftime('%H:%M:%S')\n",
    "\n",
    "#Ausgabe der ersten 5 Zeilen von timestamp\n",
    "print(csv3['timestamp'].head())\n"
   ],
   "metadata": {
    "collapsed": false,
    "ExecuteTime": {
     "end_time": "2023-11-02T12:43:34.459765Z",
     "start_time": "2023-11-02T12:43:29.726693Z"
    }
   },
   "id": "4506786c41ef16e"
  },
  {
   "cell_type": "code",
   "execution_count": 29,
   "outputs": [],
   "source": [
    "#Umwandeln von Timestamp in einen integer Wert\n",
    "csv3['timestamp'] = csv3['timestamp'].str.replace(':', '').astype(int)\n"
   ],
   "metadata": {
    "collapsed": false,
    "ExecuteTime": {
     "end_time": "2023-11-02T12:43:41.972428Z",
     "start_time": "2023-11-02T12:43:41.379948Z"
    }
   },
   "id": "592ce1784af92178"
  },
  {
   "cell_type": "code",
   "execution_count": 30,
   "outputs": [
    {
     "name": "stdout",
     "output_type": "stream",
     "text": [
      "0    180949\n",
      "1    180949\n",
      "2    180949\n",
      "3    180949\n",
      "4    180949\n",
      "Name: timestamp, dtype: int64\n"
     ]
    }
   ],
   "source": [
    "#Ausgabe der ersten 5 Zeilen von timestamp\n",
    "print(csv3['timestamp'].head())\n"
   ],
   "metadata": {
    "collapsed": false,
    "ExecuteTime": {
     "end_time": "2023-11-02T12:43:43.158912Z",
     "start_time": "2023-11-02T12:43:43.155805Z"
    }
   },
   "id": "6de405bef32c9bdc"
  },
  {
   "cell_type": "code",
   "execution_count": 31,
   "outputs": [
    {
     "name": "stdout",
     "output_type": "stream",
     "text": [
      "0     477,268\n",
      "1    -395,-57\n",
      "2      80,216\n",
      "3      230,16\n",
      "4    315,-220\n",
      "Name: coordinate, dtype: object\n"
     ]
    }
   ],
   "source": [
    "#Ausgabe der ersten 5 Zeilen von coordinate\n",
    "print(csv3['coordinate'].head())\n"
   ],
   "metadata": {
    "collapsed": false,
    "ExecuteTime": {
     "end_time": "2023-11-02T12:43:48.874363Z",
     "start_time": "2023-11-02T12:43:48.867118Z"
    }
   },
   "id": "5c430e1984b2f576"
  },
  {
   "cell_type": "code",
   "execution_count": 32,
   "outputs": [
    {
     "name": "stdout",
     "output_type": "stream",
     "text": [
      "Die Spalte coordinate in zwei Spalten 'x' und 'y' aufteilen\n"
     ]
    }
   ],
   "source": [
    "#Die Spalte coordinate in zwei Spalten \"x\" und \"y\" aufteilen\n",
    "print(\"Die Spalte coordinate in zwei Spalten 'x' und 'y' aufteilen\")\n",
    "#Falls die Spalte mehrere Kommas enthält, wird die Spalte in mehrere Spalten aufgeteilt\n",
    "csv3[['x','y']] = csv3['coordinate'].str.split(',', expand=True, n=1)\n"
   ],
   "metadata": {
    "collapsed": false,
    "ExecuteTime": {
     "end_time": "2023-11-02T12:44:42.096825Z",
     "start_time": "2023-11-02T12:44:39.017872Z"
    }
   },
   "id": "f9c00b61a2886ecd"
  },
  {
   "cell_type": "code",
   "execution_count": 34,
   "outputs": [
    {
     "name": "stdout",
     "output_type": "stream",
     "text": [
      "0     477\n",
      "1    -395\n",
      "2      80\n",
      "3     230\n",
      "4     315\n",
      "Name: x, dtype: object\n",
      "0     268\n",
      "1     -57\n",
      "2     216\n",
      "3      16\n",
      "4    -220\n",
      "Name: y, dtype: object\n",
      "   timestamp                                               user coordinate  \\\n",
      "0     180949  1Gwttcp+9HC4YLaERXOAmAtfpBj/lD3Da9sLQSyonii/Ob...    477,268   \n",
      "1     180949  7EdXDJogOffhW8ex4mCsNQzhItraj3iMAs2JtoBcsjyvDI...   -395,-57   \n",
      "2     180949  VPPgAeEohrkZRa1tnQHNb5vIqeSJ1/8RB/OtuUrMzYBymm...     80,216   \n",
      "3     180949  xNnLfREhSW0fq/zXztaSA9cQ/o3wjcvmXE7KSdJIv0zcTh...     230,16   \n",
      "4     180949  Mj1px6m88UvEDGR/toqWBMZjtcJNzruZCJImTs1U+zGJ3Z...   315,-220   \n",
      "\n",
      "  pixel_color     x     y  \n",
      "0     #3690EA   477   268  \n",
      "1     #FFD635  -395   -57  \n",
      "2     #B44AC0    80   216  \n",
      "3     #000000   230    16  \n",
      "4     #FF4500   315  -220  \n"
     ]
    }
   ],
   "source": [
    "#Ausgeben der ersten 5 Zeilen von x und y\n",
    "print(csv3['x'].head())\n",
    "print(csv3['y'].head())\n",
    "\n",
    "#Gib mir 5 Zeilen an, wo y2 nicht leer ist\n",
    "print(csv3[csv3['y'].notnull()].head())\n"
   ],
   "metadata": {
    "collapsed": false,
    "ExecuteTime": {
     "end_time": "2023-11-02T12:44:54.097493Z",
     "start_time": "2023-11-02T12:44:52.374631Z"
    }
   },
   "id": "898ae14c9501e6aa"
  },
  {
   "cell_type": "code",
   "execution_count": 35,
   "outputs": [
    {
     "name": "stdout",
     "output_type": "stream",
     "text": [
      "2278788\n"
     ]
    }
   ],
   "source": [
    "#Zähle wie viele Zeilen es gibt, wo y2 nicht leer ist\n",
    "print(csv3['y'].notnull().sum())"
   ],
   "metadata": {
    "collapsed": false,
    "ExecuteTime": {
     "end_time": "2023-11-02T12:45:14.495138Z",
     "start_time": "2023-11-02T12:45:14.493170Z"
    }
   },
   "id": "4da6f6b98947d4f5"
  },
  {
   "cell_type": "code",
   "execution_count": 36,
   "outputs": [
    {
     "name": "stdout",
     "output_type": "stream",
     "text": [
      "2278788\n"
     ]
    }
   ],
   "source": [
    "#Zähle wie viele Zeilen es gibt, wo y1 nicht leer ist\n",
    "print(csv3['y'].notnull().sum())"
   ],
   "metadata": {
    "collapsed": false,
    "ExecuteTime": {
     "end_time": "2023-11-02T12:45:18.496435Z",
     "start_time": "2023-11-02T12:45:18.494096Z"
    }
   },
   "id": "ec347f7f774e8407"
  },
  {
   "cell_type": "code",
   "execution_count": 37,
   "outputs": [
    {
     "name": "stdout",
     "output_type": "stream",
     "text": [
      "76\n"
     ]
    }
   ],
   "source": [
    "#Wenn in der Spalte coordinate ein Eintrag ist, welcher drei Kommas oder mehr enthält, dann zähle diesen\n",
    "print(csv3['coordinate'].str.count(',').eq(3).sum())"
   ],
   "metadata": {
    "collapsed": false,
    "ExecuteTime": {
     "end_time": "2023-11-02T12:45:22.736152Z",
     "start_time": "2023-11-02T12:45:21.878285Z"
    }
   },
   "id": "d8f58222030654a"
  },
  {
   "cell_type": "code",
   "execution_count": 38,
   "outputs": [
    {
     "name": "stdout",
     "output_type": "stream",
     "text": [
      "322\n"
     ]
    }
   ],
   "source": [
    "#Wenn in der Spalte coordinate ein Eintrag ist, welcher zwei Kommas oder mehr enthält, dann zähle diesen\n",
    "print(csv3['coordinate'].str.count(',').eq(2).sum())"
   ],
   "metadata": {
    "collapsed": false,
    "ExecuteTime": {
     "end_time": "2023-11-02T12:45:29.882295Z",
     "start_time": "2023-11-02T12:45:28.902126Z"
    }
   },
   "id": "c5290154b6c4bfbb"
  },
  {
   "cell_type": "code",
   "execution_count": 42,
   "outputs": [
    {
     "name": "stdout",
     "output_type": "stream",
     "text": [
      "(2278390, 6)\n",
      "Lösche die Zeilen, in welcher die Spalte coordinate zwei Kommas oder mehr enthält\n",
      "(2278390, 6)\n"
     ]
    }
   ],
   "source": [
    "#Gib mir die Anzahl der Zeilen an\n",
    "print(csv3.shape)\n",
    "#Lösche die Zeilen, in welcher die Spalte coordinate zwei Kommas oder mehr enthält\n",
    "print(\"Lösche die Zeilen, in welcher die Spalte coordinate zwei Kommas oder mehr enthält\")\n",
    "csv3 = csv3[csv3['coordinate'].str.count(',').lt(2)]\n",
    "\n",
    "#Gib mir die Anzahl der Zeilen an nach dem Löschen\n",
    "print(csv3.shape)\n"
   ],
   "metadata": {
    "collapsed": false,
    "ExecuteTime": {
     "end_time": "2023-11-02T12:48:34.368370Z",
     "start_time": "2023-11-02T12:48:32.645522Z"
    }
   },
   "id": "14759a5fd8cb2f40"
  },
  {
   "cell_type": "code",
   "execution_count": 41,
   "outputs": [
    {
     "data": {
      "text/plain": "398"
     },
     "execution_count": 41,
     "metadata": {},
     "output_type": "execute_result"
    }
   ],
   "source": [
    "2278788 - 2278390"
   ],
   "metadata": {
    "collapsed": false,
    "ExecuteTime": {
     "end_time": "2023-11-02T12:46:11.880261Z",
     "start_time": "2023-11-02T12:46:11.875846Z"
    }
   },
   "id": "4680e6240eac14b9"
  },
  {
   "cell_type": "code",
   "execution_count": 75,
   "outputs": [
    {
     "name": "stdout",
     "output_type": "stream",
     "text": [
      "Lösche die Spalten x1,x2,y1,y2\n"
     ]
    }
   ],
   "source": [
    "#Lösche die Spalten x1,x2,y1,y2\n",
    "print(\"Lösche die Spalten x1,x2,y1,y2\")\n",
    "csv3 = csv3.drop(columns=['x1','x2','y1','y2'])"
   ],
   "metadata": {
    "collapsed": false,
    "ExecuteTime": {
     "end_time": "2023-10-29T13:15:51.244050Z",
     "start_time": "2023-10-29T13:15:50.350908Z"
    }
   },
   "id": "9f9998532fa1b337"
  },
  {
   "cell_type": "code",
   "execution_count": 89,
   "outputs": [
    {
     "name": "stdout",
     "output_type": "stream",
     "text": [
      "3\n"
     ]
    }
   ],
   "source": [
    "#Erstelle ein Sample von 1000 Zeilen\n",
    "csv3_sample = csv3.sample(100000)\n",
    "\n",
    "#Überprüfe ob es doppelte Einträge gibt\n",
    "print(csv3_sample.duplicated().sum())\n"
   ],
   "metadata": {
    "collapsed": false,
    "ExecuteTime": {
     "end_time": "2023-10-29T13:22:38.817749Z",
     "start_time": "2023-10-29T13:22:38.047825Z"
    }
   },
   "id": "93d19056103022fc"
  },
  {
   "cell_type": "code",
   "execution_count": 92,
   "outputs": [
    {
     "name": "stdout",
     "output_type": "stream",
     "text": [
      "user werden pseudonymisiert durch eine Zahl\n",
      "2062310    24799\n",
      "1054183    78609\n",
      "1343870    10035\n",
      "1378958    49126\n",
      "1792627    81279\n",
      "Name: user, dtype: int32\n",
      "(100000, 4)\n",
      "3\n"
     ]
    }
   ],
   "source": [
    "#user werden pseudonymisiert durch eine Zahl \n",
    "print(\"user werden pseudonymisiert durch eine Zahl\")\n",
    "csv3_sample['user'] = csv3_sample['user'].astype('category').cat.codes\n",
    "\n",
    "#Ausgabe der ersten 5 Zeilen von user\n",
    "print(csv3_sample['user'].head())\n",
    "\n",
    "#Ausgabe der Anzahl von Zeilen von cs3_sample\n",
    "print(csv3_sample.shape)\n",
    "\n",
    "#Überprüfe ob es doppelte Einträge gibt\n",
    "print(csv3_sample.duplicated().sum())"
   ],
   "metadata": {
    "collapsed": false,
    "ExecuteTime": {
     "end_time": "2023-10-29T13:23:15.564722Z",
     "start_time": "2023-10-29T13:23:15.448151Z"
    }
   },
   "id": "1dd95cc993072a13"
  },
  {
   "cell_type": "code",
   "execution_count": 96,
   "outputs": [
    {
     "name": "stdout",
     "output_type": "stream",
     "text": [
      "1509\n",
      "(2580646, 4)\n"
     ]
    }
   ],
   "source": [
    "#Überprüfe ob es doppelte Einträge gibt\n",
    "print(csv3.duplicated().sum())\n",
    "#Ausgabe der Anzahl von Zeilen von cs3\n",
    "print(csv3.shape)"
   ],
   "metadata": {
    "collapsed": false,
    "ExecuteTime": {
     "end_time": "2023-10-29T13:25:52.293170Z",
     "start_time": "2023-10-29T13:25:50.615733Z"
    }
   },
   "id": "36b2427c2b714782"
  },
  {
   "cell_type": "code",
   "execution_count": 97,
   "outputs": [
    {
     "name": "stdout",
     "output_type": "stream",
     "text": [
      "user werden pseudonymisiert durch eine Zahl\n",
      "1509\n",
      "(2580646, 4)\n"
     ]
    }
   ],
   "source": [
    "#user werden pseudonymisiert durch eine Zahl\n",
    "print(\"user werden pseudonymisiert durch eine Zahl\")\n",
    "csv3['user'] = csv3['user'].astype('category').cat.codes\n",
    "\n",
    "#Überprüfe ob es doppelte Einträge gibt\n",
    "print(csv3.duplicated().sum())\n",
    "\n",
    "#Ausgabe der Anzahl von Zeilen von cs3\n",
    "print(csv3.shape)\n"
   ],
   "metadata": {
    "collapsed": false,
    "ExecuteTime": {
     "end_time": "2023-10-29T13:25:58.143663Z",
     "start_time": "2023-10-29T13:25:55.076244Z"
    }
   },
   "id": "51d2b15f4cf3b9"
  },
  {
   "cell_type": "code",
   "execution_count": 98,
   "outputs": [
    {
     "name": "stdout",
     "output_type": "stream",
     "text": [
      "timestamp      0\n",
      "user           0\n",
      "coordinate     0\n",
      "pixel_color    0\n",
      "dtype: int64\n"
     ]
    }
   ],
   "source": [
    "#Überprüfe ob es Fehler gibt\n",
    "print(csv3.isnull().sum())"
   ],
   "metadata": {
    "collapsed": false,
    "ExecuteTime": {
     "end_time": "2023-10-29T13:26:09.887909Z",
     "start_time": "2023-10-29T13:26:09.880213Z"
    }
   },
   "id": "37e477ab78201588"
  },
  {
   "cell_type": "code",
   "execution_count": 99,
   "outputs": [
    {
     "name": "stdout",
     "output_type": "stream",
     "text": [
      "   timestamp    user coordinate  pixel_color\n",
      "0     213642  157791    214,466            3\n",
      "1     213642  276491    19,-410            2\n",
      "2     213642  137472  -329,-264            1\n",
      "3     213642  227817    212,466            3\n",
      "4     213642  135310    193,413            1\n"
     ]
    }
   ],
   "source": [
    "#Gib mir die ersten 5 Zeilen von csv3\n",
    "print(csv3.head())\n"
   ],
   "metadata": {
    "collapsed": false,
    "ExecuteTime": {
     "end_time": "2023-10-29T13:26:31.989741Z",
     "start_time": "2023-10-29T13:26:31.976500Z"
    }
   },
   "id": "bca73e6275bf86c5"
  },
  {
   "cell_type": "code",
   "execution_count": 100,
   "outputs": [
    {
     "name": "stdout",
     "output_type": "stream",
     "text": [
      "Die Spalte coordinate in zwei Spalten 'x' und 'y' aufteilen\n"
     ]
    }
   ],
   "source": [
    "#Die Spalte coordinate in zwei Spalten \"x\" und \"y\" aufteilen\n",
    "print(\"Die Spalte coordinate in zwei Spalten 'x' und 'y' aufteilen\")\n",
    "#Falls die Spalte mehrere Kommas enthält, wird die Spalte übersprungen\n",
    "csv3[['x','y']] = csv3['coordinate'].str.split(',', expand=True, n=1)\n",
    "\n"
   ],
   "metadata": {
    "collapsed": false,
    "ExecuteTime": {
     "end_time": "2023-10-29T13:44:33.718933Z",
     "start_time": "2023-10-29T13:44:22.515328Z"
    }
   },
   "id": "a49ed8897c4e5eb0"
  },
  {
   "cell_type": "code",
   "execution_count": 104,
   "outputs": [
    {
     "name": "stdout",
     "output_type": "stream",
     "text": [
      "0    214\n",
      "1     19\n",
      "2   -329\n",
      "3    212\n",
      "4    193\n",
      "Name: x, dtype: int32\n",
      "0    466\n",
      "1   -410\n",
      "2   -264\n",
      "3    466\n",
      "4    413\n",
      "Name: y, dtype: int32\n"
     ]
    }
   ],
   "source": [
    "#Zeige die ersten 5 Zeilen von x und y an\n",
    "print(csv3['x'].head())\n",
    "print(csv3['y'].head())\n"
   ],
   "metadata": {
    "collapsed": false,
    "ExecuteTime": {
     "end_time": "2023-10-29T13:46:54.516818Z",
     "start_time": "2023-10-29T13:46:54.507778Z"
    }
   },
   "id": "3a819cfa9cea6d81"
  },
  {
   "cell_type": "code",
   "execution_count": 103,
   "outputs": [
    {
     "name": "stdout",
     "output_type": "stream",
     "text": [
      "Wandle die Spalte x und y in int32 um\n",
      "int32\n",
      "int32\n"
     ]
    }
   ],
   "source": [
    "#Wandle die Spalte x und y in int32 um\n",
    "print(\"Wandle die Spalte x und y in int32 um\")\n",
    "csv3['x'] = csv3['x'].astype('int32')\n",
    "csv3['y'] = csv3['y'].astype('int32')\n",
    "\n",
    "#gebe den Datentyp von x und y aus\n",
    "print(csv3['x'].dtypes)\n",
    "print(csv3['y'].dtypes)\n"
   ],
   "metadata": {
    "collapsed": false,
    "ExecuteTime": {
     "end_time": "2023-10-29T13:46:42.395795Z",
     "start_time": "2023-10-29T13:46:40.300191Z"
    }
   },
   "id": "56b81a84f5af7821"
  },
  {
   "cell_type": "code",
   "execution_count": 106,
   "outputs": [
    {
     "name": "stdout",
     "output_type": "stream",
     "text": [
      "Lösche die Spalte coordinate\n"
     ]
    }
   ],
   "source": [
    "#Lösche die Spalte coordinate   \n",
    "print(\"Lösche die Spalte coordinate\")\n",
    "csv3 = csv3.drop(columns=['coordinate'])"
   ],
   "metadata": {
    "collapsed": false,
    "ExecuteTime": {
     "end_time": "2023-10-29T13:47:36.467671Z",
     "start_time": "2023-10-29T13:47:36.464410Z"
    }
   },
   "id": "e6176fd846a80e66"
  },
  {
   "cell_type": "code",
   "execution_count": 107,
   "outputs": [
    {
     "name": "stdout",
     "output_type": "stream",
     "text": [
      "   timestamp    user  pixel_color    x    y\n",
      "0     213642  157791            3  214  466\n",
      "1     213642  276491            2   19 -410\n",
      "2     213642  137472            1 -329 -264\n",
      "3     213642  227817            3  212  466\n",
      "4     213642  135310            1  193  413\n"
     ]
    }
   ],
   "source": [
    "#Gebe die ersten 5 Zeilen von csv3 aus\n",
    "print(csv3.head())"
   ],
   "metadata": {
    "collapsed": false,
    "ExecuteTime": {
     "end_time": "2023-10-29T13:47:39.722114Z",
     "start_time": "2023-10-29T13:47:39.702108Z"
    }
   },
   "id": "7d8491a36b73fd8f"
  },
  {
   "cell_type": "code",
   "execution_count": 30,
   "outputs": [
    {
     "name": "stdout",
     "output_type": "stream",
     "text": [
      "Read csv File with Datatypes\n"
     ]
    },
    {
     "ename": "TypeError",
     "evalue": "data type '' not understood",
     "output_type": "error",
     "traceback": [
      "\u001B[0;31m---------------------------------------------------------------------------\u001B[0m",
      "\u001B[0;31mTypeError\u001B[0m                                 Traceback (most recent call last)",
      "Cell \u001B[0;32mIn[30], line 3\u001B[0m\n\u001B[1;32m      1\u001B[0m \u001B[38;5;66;03m#Read csv File with Datatypes\u001B[39;00m\n\u001B[1;32m      2\u001B[0m \u001B[38;5;28mprint\u001B[39m(\u001B[38;5;124m\"\u001B[39m\u001B[38;5;124mRead csv File with Datatypes\u001B[39m\u001B[38;5;124m\"\u001B[39m)\n\u001B[0;32m----> 3\u001B[0m csv4 \u001B[38;5;241m=\u001B[39m \u001B[43mpd\u001B[49m\u001B[38;5;241;43m.\u001B[39;49m\u001B[43mread_csv\u001B[49m\u001B[43m(\u001B[49m\u001B[38;5;124;43m\"\u001B[39;49m\u001B[38;5;124;43m2023_place_canvas_20072023.csv\u001B[39;49m\u001B[38;5;124;43m\"\u001B[39;49m\u001B[43m,\u001B[49m\u001B[43m \u001B[49m\u001B[43mdelimiter\u001B[49m\u001B[38;5;241;43m=\u001B[39;49m\u001B[38;5;124;43m\"\u001B[39;49m\u001B[38;5;124;43m,\u001B[39;49m\u001B[38;5;124;43m\"\u001B[39;49m\u001B[43m,\u001B[49m\u001B[43m \u001B[49m\u001B[43mdtype\u001B[49m\u001B[38;5;241;43m=\u001B[39;49m\u001B[43m{\u001B[49m\u001B[38;5;124;43m'\u001B[39;49m\u001B[38;5;124;43mpixel_color\u001B[39;49m\u001B[38;5;124;43m'\u001B[39;49m\u001B[43m:\u001B[49m\u001B[43m \u001B[49m\u001B[38;5;124;43m'\u001B[39;49m\u001B[38;5;124;43mint8\u001B[39;49m\u001B[38;5;124;43m'\u001B[39;49m\u001B[43m,\u001B[49m\u001B[43m \u001B[49m\u001B[38;5;124;43m'\u001B[39;49m\u001B[38;5;124;43mtimestamp\u001B[39;49m\u001B[38;5;124;43m'\u001B[39;49m\u001B[43m:\u001B[49m\u001B[43m \u001B[49m\u001B[38;5;124;43m'\u001B[39;49m\u001B[38;5;124;43m'\u001B[39;49m\u001B[43m}\u001B[49m\u001B[43m)\u001B[49m\n",
      "File \u001B[0;32m~/.local/share/virtualenvs/Datensatz-m_0Kr_5u/lib/python3.11/site-packages/pandas/io/parsers/readers.py:948\u001B[0m, in \u001B[0;36mread_csv\u001B[0;34m(filepath_or_buffer, sep, delimiter, header, names, index_col, usecols, dtype, engine, converters, true_values, false_values, skipinitialspace, skiprows, skipfooter, nrows, na_values, keep_default_na, na_filter, verbose, skip_blank_lines, parse_dates, infer_datetime_format, keep_date_col, date_parser, date_format, dayfirst, cache_dates, iterator, chunksize, compression, thousands, decimal, lineterminator, quotechar, quoting, doublequote, escapechar, comment, encoding, encoding_errors, dialect, on_bad_lines, delim_whitespace, low_memory, memory_map, float_precision, storage_options, dtype_backend)\u001B[0m\n\u001B[1;32m    935\u001B[0m kwds_defaults \u001B[38;5;241m=\u001B[39m _refine_defaults_read(\n\u001B[1;32m    936\u001B[0m     dialect,\n\u001B[1;32m    937\u001B[0m     delimiter,\n\u001B[0;32m   (...)\u001B[0m\n\u001B[1;32m    944\u001B[0m     dtype_backend\u001B[38;5;241m=\u001B[39mdtype_backend,\n\u001B[1;32m    945\u001B[0m )\n\u001B[1;32m    946\u001B[0m kwds\u001B[38;5;241m.\u001B[39mupdate(kwds_defaults)\n\u001B[0;32m--> 948\u001B[0m \u001B[38;5;28;01mreturn\u001B[39;00m \u001B[43m_read\u001B[49m\u001B[43m(\u001B[49m\u001B[43mfilepath_or_buffer\u001B[49m\u001B[43m,\u001B[49m\u001B[43m \u001B[49m\u001B[43mkwds\u001B[49m\u001B[43m)\u001B[49m\n",
      "File \u001B[0;32m~/.local/share/virtualenvs/Datensatz-m_0Kr_5u/lib/python3.11/site-packages/pandas/io/parsers/readers.py:611\u001B[0m, in \u001B[0;36m_read\u001B[0;34m(filepath_or_buffer, kwds)\u001B[0m\n\u001B[1;32m    608\u001B[0m _validate_names(kwds\u001B[38;5;241m.\u001B[39mget(\u001B[38;5;124m\"\u001B[39m\u001B[38;5;124mnames\u001B[39m\u001B[38;5;124m\"\u001B[39m, \u001B[38;5;28;01mNone\u001B[39;00m))\n\u001B[1;32m    610\u001B[0m \u001B[38;5;66;03m# Create the parser.\u001B[39;00m\n\u001B[0;32m--> 611\u001B[0m parser \u001B[38;5;241m=\u001B[39m \u001B[43mTextFileReader\u001B[49m\u001B[43m(\u001B[49m\u001B[43mfilepath_or_buffer\u001B[49m\u001B[43m,\u001B[49m\u001B[43m \u001B[49m\u001B[38;5;241;43m*\u001B[39;49m\u001B[38;5;241;43m*\u001B[39;49m\u001B[43mkwds\u001B[49m\u001B[43m)\u001B[49m\n\u001B[1;32m    613\u001B[0m \u001B[38;5;28;01mif\u001B[39;00m chunksize \u001B[38;5;129;01mor\u001B[39;00m iterator:\n\u001B[1;32m    614\u001B[0m     \u001B[38;5;28;01mreturn\u001B[39;00m parser\n",
      "File \u001B[0;32m~/.local/share/virtualenvs/Datensatz-m_0Kr_5u/lib/python3.11/site-packages/pandas/io/parsers/readers.py:1448\u001B[0m, in \u001B[0;36mTextFileReader.__init__\u001B[0;34m(self, f, engine, **kwds)\u001B[0m\n\u001B[1;32m   1445\u001B[0m     \u001B[38;5;28mself\u001B[39m\u001B[38;5;241m.\u001B[39moptions[\u001B[38;5;124m\"\u001B[39m\u001B[38;5;124mhas_index_names\u001B[39m\u001B[38;5;124m\"\u001B[39m] \u001B[38;5;241m=\u001B[39m kwds[\u001B[38;5;124m\"\u001B[39m\u001B[38;5;124mhas_index_names\u001B[39m\u001B[38;5;124m\"\u001B[39m]\n\u001B[1;32m   1447\u001B[0m \u001B[38;5;28mself\u001B[39m\u001B[38;5;241m.\u001B[39mhandles: IOHandles \u001B[38;5;241m|\u001B[39m \u001B[38;5;28;01mNone\u001B[39;00m \u001B[38;5;241m=\u001B[39m \u001B[38;5;28;01mNone\u001B[39;00m\n\u001B[0;32m-> 1448\u001B[0m \u001B[38;5;28mself\u001B[39m\u001B[38;5;241m.\u001B[39m_engine \u001B[38;5;241m=\u001B[39m \u001B[38;5;28;43mself\u001B[39;49m\u001B[38;5;241;43m.\u001B[39;49m\u001B[43m_make_engine\u001B[49m\u001B[43m(\u001B[49m\u001B[43mf\u001B[49m\u001B[43m,\u001B[49m\u001B[43m \u001B[49m\u001B[38;5;28;43mself\u001B[39;49m\u001B[38;5;241;43m.\u001B[39;49m\u001B[43mengine\u001B[49m\u001B[43m)\u001B[49m\n",
      "File \u001B[0;32m~/.local/share/virtualenvs/Datensatz-m_0Kr_5u/lib/python3.11/site-packages/pandas/io/parsers/readers.py:1723\u001B[0m, in \u001B[0;36mTextFileReader._make_engine\u001B[0;34m(self, f, engine)\u001B[0m\n\u001B[1;32m   1720\u001B[0m     \u001B[38;5;28;01mraise\u001B[39;00m \u001B[38;5;167;01mValueError\u001B[39;00m(msg)\n\u001B[1;32m   1722\u001B[0m \u001B[38;5;28;01mtry\u001B[39;00m:\n\u001B[0;32m-> 1723\u001B[0m     \u001B[38;5;28;01mreturn\u001B[39;00m \u001B[43mmapping\u001B[49m\u001B[43m[\u001B[49m\u001B[43mengine\u001B[49m\u001B[43m]\u001B[49m\u001B[43m(\u001B[49m\u001B[43mf\u001B[49m\u001B[43m,\u001B[49m\u001B[43m \u001B[49m\u001B[38;5;241;43m*\u001B[39;49m\u001B[38;5;241;43m*\u001B[39;49m\u001B[38;5;28;43mself\u001B[39;49m\u001B[38;5;241;43m.\u001B[39;49m\u001B[43moptions\u001B[49m\u001B[43m)\u001B[49m\n\u001B[1;32m   1724\u001B[0m \u001B[38;5;28;01mexcept\u001B[39;00m \u001B[38;5;167;01mException\u001B[39;00m:\n\u001B[1;32m   1725\u001B[0m     \u001B[38;5;28;01mif\u001B[39;00m \u001B[38;5;28mself\u001B[39m\u001B[38;5;241m.\u001B[39mhandles \u001B[38;5;129;01mis\u001B[39;00m \u001B[38;5;129;01mnot\u001B[39;00m \u001B[38;5;28;01mNone\u001B[39;00m:\n",
      "File \u001B[0;32m~/.local/share/virtualenvs/Datensatz-m_0Kr_5u/lib/python3.11/site-packages/pandas/io/parsers/c_parser_wrapper.py:87\u001B[0m, in \u001B[0;36mCParserWrapper.__init__\u001B[0;34m(self, src, **kwds)\u001B[0m\n\u001B[1;32m     79\u001B[0m \u001B[38;5;28;01mfor\u001B[39;00m key \u001B[38;5;129;01min\u001B[39;00m (\n\u001B[1;32m     80\u001B[0m     \u001B[38;5;124m\"\u001B[39m\u001B[38;5;124mstorage_options\u001B[39m\u001B[38;5;124m\"\u001B[39m,\n\u001B[1;32m     81\u001B[0m     \u001B[38;5;124m\"\u001B[39m\u001B[38;5;124mencoding\u001B[39m\u001B[38;5;124m\"\u001B[39m,\n\u001B[1;32m     82\u001B[0m     \u001B[38;5;124m\"\u001B[39m\u001B[38;5;124mmemory_map\u001B[39m\u001B[38;5;124m\"\u001B[39m,\n\u001B[1;32m     83\u001B[0m     \u001B[38;5;124m\"\u001B[39m\u001B[38;5;124mcompression\u001B[39m\u001B[38;5;124m\"\u001B[39m,\n\u001B[1;32m     84\u001B[0m ):\n\u001B[1;32m     85\u001B[0m     kwds\u001B[38;5;241m.\u001B[39mpop(key, \u001B[38;5;28;01mNone\u001B[39;00m)\n\u001B[0;32m---> 87\u001B[0m kwds[\u001B[38;5;124m\"\u001B[39m\u001B[38;5;124mdtype\u001B[39m\u001B[38;5;124m\"\u001B[39m] \u001B[38;5;241m=\u001B[39m \u001B[43mensure_dtype_objs\u001B[49m\u001B[43m(\u001B[49m\u001B[43mkwds\u001B[49m\u001B[38;5;241;43m.\u001B[39;49m\u001B[43mget\u001B[49m\u001B[43m(\u001B[49m\u001B[38;5;124;43m\"\u001B[39;49m\u001B[38;5;124;43mdtype\u001B[39;49m\u001B[38;5;124;43m\"\u001B[39;49m\u001B[43m,\u001B[49m\u001B[43m \u001B[49m\u001B[38;5;28;43;01mNone\u001B[39;49;00m\u001B[43m)\u001B[49m\u001B[43m)\u001B[49m\n\u001B[1;32m     88\u001B[0m \u001B[38;5;28;01mif\u001B[39;00m \u001B[38;5;124m\"\u001B[39m\u001B[38;5;124mdtype_backend\u001B[39m\u001B[38;5;124m\"\u001B[39m \u001B[38;5;129;01mnot\u001B[39;00m \u001B[38;5;129;01min\u001B[39;00m kwds \u001B[38;5;129;01mor\u001B[39;00m kwds[\u001B[38;5;124m\"\u001B[39m\u001B[38;5;124mdtype_backend\u001B[39m\u001B[38;5;124m\"\u001B[39m] \u001B[38;5;129;01mis\u001B[39;00m lib\u001B[38;5;241m.\u001B[39mno_default:\n\u001B[1;32m     89\u001B[0m     kwds[\u001B[38;5;124m\"\u001B[39m\u001B[38;5;124mdtype_backend\u001B[39m\u001B[38;5;124m\"\u001B[39m] \u001B[38;5;241m=\u001B[39m \u001B[38;5;124m\"\u001B[39m\u001B[38;5;124mnumpy\u001B[39m\u001B[38;5;124m\"\u001B[39m\n",
      "File \u001B[0;32m~/.local/share/virtualenvs/Datensatz-m_0Kr_5u/lib/python3.11/site-packages/pandas/io/parsers/c_parser_wrapper.py:407\u001B[0m, in \u001B[0;36mensure_dtype_objs\u001B[0;34m(dtype)\u001B[0m\n\u001B[1;32m    405\u001B[0m     \u001B[38;5;28;01mreturn\u001B[39;00m dtype_converted\n\u001B[1;32m    406\u001B[0m \u001B[38;5;28;01melif\u001B[39;00m \u001B[38;5;28misinstance\u001B[39m(dtype, \u001B[38;5;28mdict\u001B[39m):\n\u001B[0;32m--> 407\u001B[0m     \u001B[38;5;28;01mreturn\u001B[39;00m \u001B[43m{\u001B[49m\u001B[43mk\u001B[49m\u001B[43m:\u001B[49m\u001B[43m \u001B[49m\u001B[43mpandas_dtype\u001B[49m\u001B[43m(\u001B[49m\u001B[43mdtype\u001B[49m\u001B[43m[\u001B[49m\u001B[43mk\u001B[49m\u001B[43m]\u001B[49m\u001B[43m)\u001B[49m\u001B[43m \u001B[49m\u001B[38;5;28;43;01mfor\u001B[39;49;00m\u001B[43m \u001B[49m\u001B[43mk\u001B[49m\u001B[43m \u001B[49m\u001B[38;5;129;43;01min\u001B[39;49;00m\u001B[43m \u001B[49m\u001B[43mdtype\u001B[49m\u001B[43m}\u001B[49m\n\u001B[1;32m    408\u001B[0m \u001B[38;5;28;01melif\u001B[39;00m dtype \u001B[38;5;129;01mis\u001B[39;00m \u001B[38;5;129;01mnot\u001B[39;00m \u001B[38;5;28;01mNone\u001B[39;00m:\n\u001B[1;32m    409\u001B[0m     \u001B[38;5;28;01mreturn\u001B[39;00m pandas_dtype(dtype)\n",
      "File \u001B[0;32m~/.local/share/virtualenvs/Datensatz-m_0Kr_5u/lib/python3.11/site-packages/pandas/io/parsers/c_parser_wrapper.py:407\u001B[0m, in \u001B[0;36m<dictcomp>\u001B[0;34m(.0)\u001B[0m\n\u001B[1;32m    405\u001B[0m     \u001B[38;5;28;01mreturn\u001B[39;00m dtype_converted\n\u001B[1;32m    406\u001B[0m \u001B[38;5;28;01melif\u001B[39;00m \u001B[38;5;28misinstance\u001B[39m(dtype, \u001B[38;5;28mdict\u001B[39m):\n\u001B[0;32m--> 407\u001B[0m     \u001B[38;5;28;01mreturn\u001B[39;00m {k: \u001B[43mpandas_dtype\u001B[49m\u001B[43m(\u001B[49m\u001B[43mdtype\u001B[49m\u001B[43m[\u001B[49m\u001B[43mk\u001B[49m\u001B[43m]\u001B[49m\u001B[43m)\u001B[49m \u001B[38;5;28;01mfor\u001B[39;00m k \u001B[38;5;129;01min\u001B[39;00m dtype}\n\u001B[1;32m    408\u001B[0m \u001B[38;5;28;01melif\u001B[39;00m dtype \u001B[38;5;129;01mis\u001B[39;00m \u001B[38;5;129;01mnot\u001B[39;00m \u001B[38;5;28;01mNone\u001B[39;00m:\n\u001B[1;32m    409\u001B[0m     \u001B[38;5;28;01mreturn\u001B[39;00m pandas_dtype(dtype)\n",
      "File \u001B[0;32m~/.local/share/virtualenvs/Datensatz-m_0Kr_5u/lib/python3.11/site-packages/pandas/core/dtypes/common.py:1636\u001B[0m, in \u001B[0;36mpandas_dtype\u001B[0;34m(dtype)\u001B[0m\n\u001B[1;32m   1631\u001B[0m     \u001B[38;5;28;01mwith\u001B[39;00m warnings\u001B[38;5;241m.\u001B[39mcatch_warnings():\n\u001B[1;32m   1632\u001B[0m         \u001B[38;5;66;03m# GH#51523 - Series.astype(np.integer) doesn't show\u001B[39;00m\n\u001B[1;32m   1633\u001B[0m         \u001B[38;5;66;03m# numpy deprecation warning of np.integer\u001B[39;00m\n\u001B[1;32m   1634\u001B[0m         \u001B[38;5;66;03m# Hence enabling DeprecationWarning\u001B[39;00m\n\u001B[1;32m   1635\u001B[0m         warnings\u001B[38;5;241m.\u001B[39msimplefilter(\u001B[38;5;124m\"\u001B[39m\u001B[38;5;124malways\u001B[39m\u001B[38;5;124m\"\u001B[39m, \u001B[38;5;167;01mDeprecationWarning\u001B[39;00m)\n\u001B[0;32m-> 1636\u001B[0m         npdtype \u001B[38;5;241m=\u001B[39m \u001B[43mnp\u001B[49m\u001B[38;5;241;43m.\u001B[39;49m\u001B[43mdtype\u001B[49m\u001B[43m(\u001B[49m\u001B[43mdtype\u001B[49m\u001B[43m)\u001B[49m\n\u001B[1;32m   1637\u001B[0m \u001B[38;5;28;01mexcept\u001B[39;00m \u001B[38;5;167;01mSyntaxError\u001B[39;00m \u001B[38;5;28;01mas\u001B[39;00m err:\n\u001B[1;32m   1638\u001B[0m     \u001B[38;5;66;03m# np.dtype uses `eval` which can raise SyntaxError\u001B[39;00m\n\u001B[1;32m   1639\u001B[0m     \u001B[38;5;28;01mraise\u001B[39;00m \u001B[38;5;167;01mTypeError\u001B[39;00m(\u001B[38;5;124mf\u001B[39m\u001B[38;5;124m\"\u001B[39m\u001B[38;5;124mdata type \u001B[39m\u001B[38;5;124m'\u001B[39m\u001B[38;5;132;01m{\u001B[39;00mdtype\u001B[38;5;132;01m}\u001B[39;00m\u001B[38;5;124m'\u001B[39m\u001B[38;5;124m not understood\u001B[39m\u001B[38;5;124m\"\u001B[39m) \u001B[38;5;28;01mfrom\u001B[39;00m \u001B[38;5;21;01merr\u001B[39;00m\n",
      "\u001B[0;31mTypeError\u001B[0m: data type '' not understood"
     ]
    }
   ],
   "source": [
    "#Read csv File with Datatypes\n",
    "print(\"Read csv File with Datatypes\")\n",
    "csv4 = pd.read_csv(\"2023_place_canvas_20072023.csv\", delimiter=\",\", dtype={'pixel_color': 'int8', 'timestamp': 'datetime64'})"
   ],
   "metadata": {
    "collapsed": false,
    "ExecuteTime": {
     "end_time": "2023-10-27T08:26:36.205285Z",
     "start_time": "2023-10-27T08:26:36.111192Z"
    }
   },
   "id": "d07a14ee3c703257"
  },
  {
   "cell_type": "code",
   "execution_count": 25,
   "outputs": [
    {
     "name": "stdout",
     "output_type": "stream",
     "text": [
      "(12285459, 4)\n",
      "2023-07-20 23:59:59\n",
      "2023-07-20 13:00:26\n",
      "             timestamp                                               user  \\\n",
      "0  2023-07-20 13:00:26  no+8HEIDjbdx7/LxH9Xr+h4lyoar0MRTYugWKrGdQOg7dF...   \n",
      "1  2023-07-20 13:00:43  qJ7O6cuUNfkDyn+ZOEYR+UiVEmAu/vYfm/s4hK0XJytqAx...   \n",
      "2  2023-07-20 13:00:43  uqi5XwkBePwcPKJgGOxHKzzzXuZKU6iKZT+OVfUJfaRKek...   \n",
      "3  2023-07-20 13:01:02  rgSTj7FHZUHsLXZLLNj9+vxibHIowb2+UhfFLDYgsVBXqI...   \n",
      "4  2023-07-20 13:01:40  2bmivBNj8NYvnp/15k0EqC+75T1OxTtCUcRG2pf0c5btzF...   \n",
      "\n",
      "  coordinate  pixel_color  \n",
      "0  -199,-235            8  \n",
      "1     0,-298            1  \n",
      "2   -42,-218            8  \n",
      "3  -418,-232            6  \n",
      "4    182,164            1  \n"
     ]
    }
   ],
   "source": [
    "#Informationen über die Anzahl der Zeilen und Spalten\n",
    "print(csv4.shape)\n",
    "#Ausgabe der min und max Werte von timestamp\n",
    "print(csv4['timestamp'].max())\n",
    "print(csv4['timestamp'].min())\n",
    "\n",
    "#Ausgabe der ersten 5 Zeilen\n",
    "print(csv4.head())\n"
   ],
   "metadata": {
    "collapsed": false,
    "ExecuteTime": {
     "end_time": "2023-10-27T08:18:38.405956Z",
     "start_time": "2023-10-27T08:18:37.450073Z"
    }
   },
   "id": "cc42721d33d930d4"
  },
  {
   "cell_type": "code",
   "execution_count": 26,
   "outputs": [
    {
     "name": "stdout",
     "output_type": "stream",
     "text": [
      "timestamp      0\n",
      "user           0\n",
      "coordinate     0\n",
      "pixel_color    0\n",
      "dtype: int64\n"
     ]
    }
   ],
   "source": [
    "#Check for missing values\n",
    "print(csv4.isnull().sum())"
   ],
   "metadata": {
    "collapsed": false,
    "ExecuteTime": {
     "end_time": "2023-10-27T08:20:48.868076Z",
     "start_time": "2023-10-27T08:20:42.135227Z"
    }
   },
   "id": "cca1415a44fd1526"
  },
  {
   "cell_type": "code",
   "execution_count": 27,
   "outputs": [
    {
     "name": "stdout",
     "output_type": "stream",
     "text": [
      "timestamp      object\n",
      "user           object\n",
      "coordinate     object\n",
      "pixel_color     int64\n",
      "dtype: object\n"
     ]
    }
   ],
   "source": [
    "print(csv4.dtypes)"
   ],
   "metadata": {
    "collapsed": false,
    "ExecuteTime": {
     "end_time": "2023-10-27T08:21:06.799500Z",
     "start_time": "2023-10-27T08:21:06.796296Z"
    }
   },
   "id": "fe0ead480ce078c3"
  },
  {
   "cell_type": "code",
   "execution_count": 1,
   "outputs": [
    {
     "ename": "NameError",
     "evalue": "name 'pd' is not defined",
     "output_type": "error",
     "traceback": [
      "\u001B[0;31m---------------------------------------------------------------------------\u001B[0m",
      "\u001B[0;31mNameError\u001B[0m                                 Traceback (most recent call last)",
      "Cell \u001B[0;32mIn[1], line 2\u001B[0m\n\u001B[1;32m      1\u001B[0m \u001B[38;5;66;03m#Test Szenario \u001B[39;00m\n\u001B[0;32m----> 2\u001B[0m csv4 \u001B[38;5;241m=\u001B[39m \u001B[43mpd\u001B[49m\u001B[38;5;241m.\u001B[39mread_csv(\u001B[38;5;124m\"\u001B[39m\u001B[38;5;124m2023_place_canvas_history-000000000002.csv\u001B[39m\u001B[38;5;124m\"\u001B[39m, delimiter\u001B[38;5;241m=\u001B[39m\u001B[38;5;124m\"\u001B[39m\u001B[38;5;124m,\u001B[39m\u001B[38;5;124m\"\u001B[39m)\n",
      "\u001B[0;31mNameError\u001B[0m: name 'pd' is not defined"
     ]
    }
   ],
   "source": [
    "#Test Szenario \n",
    "csv4 = pd.read_csv(\"2023_place_canvas_history-000000000002.csv\", delimiter=\",\")"
   ],
   "metadata": {
    "collapsed": false,
    "ExecuteTime": {
     "end_time": "2023-11-02T13:38:35.875390Z",
     "start_time": "2023-11-02T13:38:35.790293Z"
    }
   },
   "id": "977e6f1a087901df"
  },
  {
   "cell_type": "code",
   "execution_count": 52,
   "outputs": [
    {
     "name": "stdout",
     "output_type": "stream",
     "text": [
      "Lösche die Zeilen, in welcher die Spalte coodinate zwei Kommas oder mehr enthält\n"
     ]
    }
   ],
   "source": [
    "# Lösche die Zeilen, in welcher die Spalte coodinate zwei Kommas oder mehr enthält\n",
    "print(\"Lösche die Zeilen, in welcher die Spalte coodinate zwei Kommas oder mehr enthält\")\n",
    "csv4 = csv4[csv4['coordinate'].str.count(',').lt(2)]"
   ],
   "metadata": {
    "collapsed": false,
    "ExecuteTime": {
     "end_time": "2023-11-02T13:37:16.038510Z",
     "start_time": "2023-11-02T13:37:14.657251Z"
    }
   },
   "id": "2ca9205c072aa480"
  },
  {
   "cell_type": "code",
   "execution_count": 53,
   "outputs": [
    {
     "name": "stdout",
     "output_type": "stream",
     "text": [
      "Die Spalte coordinate in zwei Spalten 'x' und 'y' aufteilen\n"
     ]
    }
   ],
   "source": [
    "# Die Spalte coordinate in zwei Spalten \"x\" und \"y\" aufteilen\n",
    "print(\"Die Spalte coordinate in zwei Spalten 'x' und 'y' aufteilen\")\n",
    "csv4[['x', 'y']] = csv4['coordinate'].str.split(',', expand=True, n=1)"
   ],
   "metadata": {
    "collapsed": false,
    "ExecuteTime": {
     "end_time": "2023-11-02T13:37:21.852353Z",
     "start_time": "2023-11-02T13:37:16.530025Z"
    }
   },
   "id": "21dd8a3dc9d36000"
  },
  {
   "cell_type": "code",
   "execution_count": 54,
   "outputs": [
    {
     "name": "stdout",
     "output_type": "stream",
     "text": [
      "Die Spalten 'x' und 'y' in int32 umwandeln\n",
      "Die Spalte 'coordinate' löschen\n"
     ]
    }
   ],
   "source": [
    "    # Die Spalten \"x\" und \"y\" in int32 umwandeln\n",
    "    print(\"Die Spalten 'x' und 'y' in int32 umwandeln\")\n",
    "    csv4['x'] = csv4['x'].astype('int32')\n",
    "    csv4['y'] = csv4['y'].astype('int32')\n",
    "    # Die Spalte \"coordinate\" löschen\n",
    "    print(\"Die Spalte 'coordinate' löschen\")\n",
    "    csv4 = csv4.drop(columns=['coordinate'])"
   ],
   "metadata": {
    "collapsed": false,
    "ExecuteTime": {
     "end_time": "2023-11-02T13:37:36.523289Z",
     "start_time": "2023-11-02T13:37:35.975107Z"
    }
   },
   "id": "1d643571e3a7b8fe"
  },
  {
   "cell_type": "code",
   "execution_count": 79,
   "outputs": [],
   "source": [
    "#csv11 = pd.read_csv(\"2023_place_canvas_history-000000000000.csv\", delimiter=\",\")\n",
    "#csv12 = pd.read_csv(\"2023_place_canvas_history-000000000001.csv\", delimiter=\",\")\n",
    "csv13 = pd.read_csv(\"2023_place_canvas_history-000000000002.csv\", delimiter=\",\")\n",
    "#csv14 = pd.read_csv(\"2023_place_canvas_history-000000000003.csv\", delimiter=\",\")\n",
    "#csv15 = pd.read_csv(\"2023_place_canvas_history-000000000004.csv\", delimiter=\",\")"
   ],
   "metadata": {
    "collapsed": false,
    "ExecuteTime": {
     "end_time": "2023-11-06T14:53:52.101318Z",
     "start_time": "2023-11-06T14:53:48.267450Z"
    }
   },
   "id": "751d8e2e5fb70efc"
  },
  {
   "cell_type": "code",
   "execution_count": 81,
   "outputs": [
    {
     "name": "stdout",
     "output_type": "stream",
     "text": [
      "(2278788, 4)\n"
     ]
    }
   ],
   "source": [
    "print(csv13.shape)\n"
   ],
   "metadata": {
    "collapsed": false,
    "ExecuteTime": {
     "end_time": "2023-11-06T14:53:59.150495Z",
     "start_time": "2023-11-06T14:53:59.147463Z"
    }
   },
   "id": "18c273c883f20262"
  },
  {
   "cell_type": "code",
   "execution_count": 82,
   "outputs": [
    {
     "name": "stdout",
     "output_type": "stream",
     "text": [
      "0     477,268\n",
      "1    -395,-57\n",
      "2      80,216\n",
      "3      230,16\n",
      "4    315,-220\n",
      "Name: coordinate, dtype: object\n",
      "322\n",
      "76\n",
      "0\n",
      "(2278390, 4)\n",
      "0\n",
      "0\n"
     ]
    }
   ],
   "source": [
    "#printe mir die Spalte coordinate aus\n",
    "print(csv13['coordinate'].head())\n",
    "#printe die Anzahl an Spalten welche zwei oder drei kommas enthalten\n",
    "print(csv13['coordinate'].str.count(',').eq(2).sum())\n",
    "print(csv13['coordinate'].str.count(',').eq(3).sum())\n",
    "print(csv13['coordinate'].str.count(',').eq(4).sum())\n",
    "\n",
    "#Löschen der Zeilen, welche zwei oder drei kommas enthalten\n",
    "csv13 = csv13[csv13['coordinate'].str.count(',').lt(2)]\n",
    "#printe die Anzahl an Spalten welche zwei oder drei kommas enthalten\n",
    "#printe die Anzahl an Zeilen aus\n",
    "print(csv13.shape)\n",
    "\n",
    "\n",
    "print(csv13['coordinate'].str.count(',').eq(2).sum())\n",
    "print(csv13['coordinate'].str.count(',').eq(3).sum())\n"
   ],
   "metadata": {
    "collapsed": false,
    "ExecuteTime": {
     "end_time": "2023-11-06T14:54:05.206996Z",
     "start_time": "2023-11-06T14:54:00.366484Z"
    }
   },
   "id": "1dc3518b1734e0e9"
  },
  {
   "cell_type": "code",
   "execution_count": 83,
   "outputs": [
    {
     "data": {
      "text/plain": "2278390"
     },
     "execution_count": 83,
     "metadata": {},
     "output_type": "execute_result"
    }
   ],
   "source": [
    "2278788 - 322 - 76"
   ],
   "metadata": {
    "collapsed": false,
    "ExecuteTime": {
     "end_time": "2023-11-06T14:54:20.605767Z",
     "start_time": "2023-11-06T14:54:20.593509Z"
    }
   },
   "id": "bdd03cbad2b057fb"
  },
  {
   "cell_type": "markdown",
   "source": [],
   "metadata": {
    "collapsed": false
   },
   "id": "6b67cf019302a47b"
  },
  {
   "cell_type": "code",
   "execution_count": 84,
   "outputs": [
    {
     "name": "stdout",
     "output_type": "stream",
     "text": [
      "2278390\n",
      "2278390\n",
      "(2278390, 6)\n"
     ]
    }
   ],
   "source": [
    "csv13[['x', 'y']] = csv13['coordinate'].str.split(',', expand=True, n=1)\n",
    "#printe mir die Anzahl an Zeilen von x und y aus\n",
    "print(csv13['x'].notnull().sum())\n",
    "print(csv13['y'].notnull().sum())\n",
    "print(csv13.shape)"
   ],
   "metadata": {
    "collapsed": false,
    "ExecuteTime": {
     "end_time": "2023-11-06T14:54:50.691114Z",
     "start_time": "2023-11-06T14:54:44.605622Z"
    }
   },
   "id": "157887ec29742e50"
  },
  {
   "cell_type": "code",
   "execution_count": 44,
   "outputs": [
    {
     "name": "stdout",
     "output_type": "stream",
     "text": [
      "1\n",
      "2\n",
      "timestamp      0\n",
      "user           0\n",
      "coordinate     0\n",
      "pixel_color    0\n",
      "x              0\n",
      "y              0\n",
      "dtype: int64\n"
     ]
    }
   ],
   "source": [
    "# Lösche die Zeilen, in welcher die Spalte coodinate zwei Kommas oder mehr enthält\n",
    "csv13 = csv13[csv13['coordinate'].str.count(',').lt(2)]\n",
    "coordinates_split = csv13['coordinate'].str.split(',', expand=True)\n",
    "print(1)\n",
    "csv13.loc[:, 'x'] = coordinates_split[0].astype(float)\n",
    "print(2)\n",
    "csv13.loc[:, 'y'] = coordinates_split[1].astype(float)\n",
    "print(csv13.isnull().sum())"
   ],
   "metadata": {
    "collapsed": false,
    "ExecuteTime": {
     "end_time": "2023-11-06T14:26:35.704920Z",
     "start_time": "2023-11-06T14:26:29.448748Z"
    }
   },
   "id": "442ad73f1a8f9495"
  },
  {
   "cell_type": "code",
   "execution_count": 12,
   "outputs": [],
   "source": [
    "#make a list of csv11 to csv15\n",
    "csv_list = [csv11, csv12, csv13, csv14, csv15]"
   ],
   "metadata": {
    "collapsed": false,
    "ExecuteTime": {
     "end_time": "2023-11-06T14:00:44.767240Z",
     "start_time": "2023-11-06T14:00:44.764464Z"
    }
   },
   "id": "c867c34aef8af288"
  },
  {
   "cell_type": "code",
   "execution_count": 33,
   "outputs": [
    {
     "name": "stdout",
     "output_type": "stream",
     "text": [
      "0     477,268\n",
      "1    -395,-57\n",
      "2      80,216\n",
      "3      230,16\n",
      "4    315,-220\n",
      "Name: coordinate, dtype: object\n",
      "0     477,268\n",
      "1    -395,-57\n",
      "2      80,216\n",
      "3      230,16\n",
      "4    315,-220\n",
      "Name: coordinate, dtype: object\n",
      "timestamp      0\n",
      "user           0\n",
      "coordinate     0\n",
      "pixel_color    0\n",
      "dtype: int64\n"
     ]
    }
   ],
   "source": [
    "#Zeige mir die Spalte coordinate\n",
    "print(csv13['coordinate'].head())\n",
    "# Lösche die Zeilen, in welcher die Spalte coodinate zwei Kommas oder mehr enthält\n",
    "csv13 = csv13[csv13['coordinate'].str.count(',').lt(2)]\n",
    "print(csv13['coordinate'].head())\n",
    "#Überprüfe ob Nan Values in coordinate enthalten sind\n",
    "print(csv13.isnull().sum())"
   ],
   "metadata": {
    "collapsed": false,
    "ExecuteTime": {
     "end_time": "2023-11-06T14:21:06.863835Z",
     "start_time": "2023-11-06T14:21:05.520354Z"
    }
   },
   "id": "27a301f47669156b"
  },
  {
   "cell_type": "code",
   "execution_count": 23,
   "outputs": [
    {
     "name": "stdout",
     "output_type": "stream",
     "text": [
      "Lösche die Zeilen, in welcher die Spalte coodinate zwei Kommas oder mehr enthält\n",
      "Die Spalte coordinate in zwei Spalten 'x' und 'y' aufteilen\n",
      "1\n",
      "2\n",
      "3\n"
     ]
    },
    {
     "name": "stderr",
     "output_type": "stream",
     "text": [
      "/var/folders/rm/jy9wcsjs6b96ktzhjj94zw5w0000gn/T/ipykernel_84519/537333461.py:10: SettingWithCopyWarning: \n",
      "A value is trying to be set on a copy of a slice from a DataFrame.\n",
      "Try using .loc[row_indexer,col_indexer] = value instead\n",
      "\n",
      "See the caveats in the documentation: https://pandas.pydata.org/pandas-docs/stable/user_guide/indexing.html#returning-a-view-versus-a-copy\n",
      "  file.loc[:, 'x'] = coordinates_split[0].astype(float)\n",
      "/var/folders/rm/jy9wcsjs6b96ktzhjj94zw5w0000gn/T/ipykernel_84519/537333461.py:12: SettingWithCopyWarning: \n",
      "A value is trying to be set on a copy of a slice from a DataFrame.\n",
      "Try using .loc[row_indexer,col_indexer] = value instead\n",
      "\n",
      "See the caveats in the documentation: https://pandas.pydata.org/pandas-docs/stable/user_guide/indexing.html#returning-a-view-versus-a-copy\n",
      "  file.loc[:, 'y'] = coordinates_split[1].astype(float)\n"
     ]
    },
    {
     "name": "stdout",
     "output_type": "stream",
     "text": [
      "timestamp      0\n",
      "user           0\n",
      "coordinate     0\n",
      "pixel_color    0\n",
      "x              0\n",
      "y              0\n",
      "dtype: int64\n",
      "Lösche die Zeilen, in welcher die Spalte coodinate zwei Kommas oder mehr enthält\n",
      "Die Spalte coordinate in zwei Spalten 'x' und 'y' aufteilen\n",
      "1\n",
      "2\n",
      "3\n"
     ]
    },
    {
     "name": "stderr",
     "output_type": "stream",
     "text": [
      "/var/folders/rm/jy9wcsjs6b96ktzhjj94zw5w0000gn/T/ipykernel_84519/537333461.py:10: SettingWithCopyWarning: \n",
      "A value is trying to be set on a copy of a slice from a DataFrame.\n",
      "Try using .loc[row_indexer,col_indexer] = value instead\n",
      "\n",
      "See the caveats in the documentation: https://pandas.pydata.org/pandas-docs/stable/user_guide/indexing.html#returning-a-view-versus-a-copy\n",
      "  file.loc[:, 'x'] = coordinates_split[0].astype(float)\n",
      "/var/folders/rm/jy9wcsjs6b96ktzhjj94zw5w0000gn/T/ipykernel_84519/537333461.py:12: SettingWithCopyWarning: \n",
      "A value is trying to be set on a copy of a slice from a DataFrame.\n",
      "Try using .loc[row_indexer,col_indexer] = value instead\n",
      "\n",
      "See the caveats in the documentation: https://pandas.pydata.org/pandas-docs/stable/user_guide/indexing.html#returning-a-view-versus-a-copy\n",
      "  file.loc[:, 'y'] = coordinates_split[1].astype(float)\n"
     ]
    },
    {
     "name": "stdout",
     "output_type": "stream",
     "text": [
      "timestamp      0\n",
      "user           0\n",
      "coordinate     0\n",
      "pixel_color    0\n",
      "x              0\n",
      "y              0\n",
      "dtype: int64\n",
      "Lösche die Zeilen, in welcher die Spalte coodinate zwei Kommas oder mehr enthält\n",
      "Die Spalte coordinate in zwei Spalten 'x' und 'y' aufteilen\n",
      "1\n",
      "2\n",
      "3\n"
     ]
    },
    {
     "name": "stderr",
     "output_type": "stream",
     "text": [
      "/var/folders/rm/jy9wcsjs6b96ktzhjj94zw5w0000gn/T/ipykernel_84519/537333461.py:10: SettingWithCopyWarning: \n",
      "A value is trying to be set on a copy of a slice from a DataFrame.\n",
      "Try using .loc[row_indexer,col_indexer] = value instead\n",
      "\n",
      "See the caveats in the documentation: https://pandas.pydata.org/pandas-docs/stable/user_guide/indexing.html#returning-a-view-versus-a-copy\n",
      "  file.loc[:, 'x'] = coordinates_split[0].astype(float)\n",
      "/var/folders/rm/jy9wcsjs6b96ktzhjj94zw5w0000gn/T/ipykernel_84519/537333461.py:12: SettingWithCopyWarning: \n",
      "A value is trying to be set on a copy of a slice from a DataFrame.\n",
      "Try using .loc[row_indexer,col_indexer] = value instead\n",
      "\n",
      "See the caveats in the documentation: https://pandas.pydata.org/pandas-docs/stable/user_guide/indexing.html#returning-a-view-versus-a-copy\n",
      "  file.loc[:, 'y'] = coordinates_split[1].astype(float)\n"
     ]
    },
    {
     "name": "stdout",
     "output_type": "stream",
     "text": [
      "timestamp      0\n",
      "user           0\n",
      "coordinate     0\n",
      "pixel_color    0\n",
      "x              0\n",
      "y              0\n",
      "dtype: int64\n",
      "Lösche die Zeilen, in welcher die Spalte coodinate zwei Kommas oder mehr enthält\n",
      "Die Spalte coordinate in zwei Spalten 'x' und 'y' aufteilen\n",
      "1\n",
      "2\n",
      "3\n"
     ]
    },
    {
     "name": "stderr",
     "output_type": "stream",
     "text": [
      "/var/folders/rm/jy9wcsjs6b96ktzhjj94zw5w0000gn/T/ipykernel_84519/537333461.py:10: SettingWithCopyWarning: \n",
      "A value is trying to be set on a copy of a slice from a DataFrame.\n",
      "Try using .loc[row_indexer,col_indexer] = value instead\n",
      "\n",
      "See the caveats in the documentation: https://pandas.pydata.org/pandas-docs/stable/user_guide/indexing.html#returning-a-view-versus-a-copy\n",
      "  file.loc[:, 'x'] = coordinates_split[0].astype(float)\n",
      "/var/folders/rm/jy9wcsjs6b96ktzhjj94zw5w0000gn/T/ipykernel_84519/537333461.py:12: SettingWithCopyWarning: \n",
      "A value is trying to be set on a copy of a slice from a DataFrame.\n",
      "Try using .loc[row_indexer,col_indexer] = value instead\n",
      "\n",
      "See the caveats in the documentation: https://pandas.pydata.org/pandas-docs/stable/user_guide/indexing.html#returning-a-view-versus-a-copy\n",
      "  file.loc[:, 'y'] = coordinates_split[1].astype(float)\n"
     ]
    },
    {
     "name": "stdout",
     "output_type": "stream",
     "text": [
      "timestamp      0\n",
      "user           0\n",
      "coordinate     0\n",
      "pixel_color    0\n",
      "x              0\n",
      "y              0\n",
      "dtype: int64\n",
      "Lösche die Zeilen, in welcher die Spalte coodinate zwei Kommas oder mehr enthält\n",
      "Die Spalte coordinate in zwei Spalten 'x' und 'y' aufteilen\n",
      "1\n",
      "2\n",
      "3\n"
     ]
    },
    {
     "name": "stderr",
     "output_type": "stream",
     "text": [
      "/var/folders/rm/jy9wcsjs6b96ktzhjj94zw5w0000gn/T/ipykernel_84519/537333461.py:10: SettingWithCopyWarning: \n",
      "A value is trying to be set on a copy of a slice from a DataFrame.\n",
      "Try using .loc[row_indexer,col_indexer] = value instead\n",
      "\n",
      "See the caveats in the documentation: https://pandas.pydata.org/pandas-docs/stable/user_guide/indexing.html#returning-a-view-versus-a-copy\n",
      "  file.loc[:, 'x'] = coordinates_split[0].astype(float)\n",
      "/var/folders/rm/jy9wcsjs6b96ktzhjj94zw5w0000gn/T/ipykernel_84519/537333461.py:12: SettingWithCopyWarning: \n",
      "A value is trying to be set on a copy of a slice from a DataFrame.\n",
      "Try using .loc[row_indexer,col_indexer] = value instead\n",
      "\n",
      "See the caveats in the documentation: https://pandas.pydata.org/pandas-docs/stable/user_guide/indexing.html#returning-a-view-versus-a-copy\n",
      "  file.loc[:, 'y'] = coordinates_split[1].astype(float)\n"
     ]
    },
    {
     "name": "stdout",
     "output_type": "stream",
     "text": [
      "timestamp      0\n",
      "user           0\n",
      "coordinate     0\n",
      "pixel_color    0\n",
      "x              0\n",
      "y              0\n",
      "dtype: int64\n"
     ]
    }
   ],
   "source": [
    "#Schleife über csv_list\n",
    "for file in csv_list:\n",
    "    # Lösche die Zeilen, in welcher die Spalte coodinate zwei Kommas oder mehr enthält\n",
    "    print(\"Lösche die Zeilen, in welcher die Spalte coodinate zwei Kommas oder mehr enthält\")\n",
    "    file = file[file['coordinate'].str.count(',').lt(2)]\n",
    "    # Die Spalte coordinate in zwei Spalten \"x\" und \"y\" aufteilen\n",
    "    print(\"Die Spalte coordinate in zwei Spalten 'x' und 'y' aufteilen\")\n",
    "\n",
    "    \n",
    "    #Überprüfe ob es NaN Values gibt\n",
    "    print(file.isnull().sum())\n",
    "    \n"
   ],
   "metadata": {
    "collapsed": false,
    "ExecuteTime": {
     "end_time": "2023-11-06T14:14:04.772166Z",
     "start_time": "2023-11-06T14:13:26.829675Z"
    }
   },
   "id": "9a9fbb8a6918e847"
  }
 ],
 "metadata": {
  "kernelspec": {
   "display_name": "Python 3",
   "language": "python",
   "name": "python3"
  },
  "language_info": {
   "codemirror_mode": {
    "name": "ipython",
    "version": 2
   },
   "file_extension": ".py",
   "mimetype": "text/x-python",
   "name": "python",
   "nbconvert_exporter": "python",
   "pygments_lexer": "ipython2",
   "version": "2.7.6"
  }
 },
 "nbformat": 4,
 "nbformat_minor": 5
}
